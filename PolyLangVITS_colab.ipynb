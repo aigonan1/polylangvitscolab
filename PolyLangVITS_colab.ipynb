{
  "nbformat": 4,
  "nbformat_minor": 0,
  "metadata": {
    "colab": {
      "provenance": [],
      "collapsed_sections": [
        "d2i_0VAbDBKb"
      ],
      "gpuType": "T4",
      "authorship_tag": "ABX9TyNzCrQybf9fFwa/FUZW85Nr",
      "include_colab_link": true
    },
    "kernelspec": {
      "name": "python3",
      "display_name": "Python 3"
    },
    "language_info": {
      "name": "python"
    },
    "accelerator": "GPU"
  },
  "cells": [
    {
      "cell_type": "markdown",
      "metadata": {
        "id": "view-in-github",
        "colab_type": "text"
      },
      "source": [
        "<a href=\"https://colab.research.google.com/github/aigonan1/polylangvitscolab/blob/main/PolyLangVITS_colab.ipynb\" target=\"_parent\"><img src=\"https://colab.research.google.com/assets/colab-badge.svg\" alt=\"Open In Colab\"/></a>"
      ]
    },
    {
      "cell_type": "markdown",
      "source": [
        "# Poly Lang VITS 학습용 코랩\n",
        "[본가](https://github.com/ORI-Muchim/PolyLangVITS#inference)"
      ],
      "metadata": {
        "id": "puKGcrJ9DzW8"
      }
    },
    {
      "cell_type": "markdown",
      "source": [
        "# **전제조건 설치**\n",
        "전제\n"
      ],
      "metadata": {
        "id": "d2i_0VAbDBKb"
      }
    },
    {
      "cell_type": "code",
      "source": [
        "!nvidia-smi"
      ],
      "metadata": {
        "id": "_d063TfrDJTp"
      },
      "execution_count": null,
      "outputs": []
    },
    {
      "cell_type": "code",
      "source": [
        "from google.colab import drive\n",
        "drive.mount('/content/drive/')"
      ],
      "metadata": {
        "id": "AJCxUcOXG2UP"
      },
      "execution_count": null,
      "outputs": []
    },
    {
      "cell_type": "code",
      "source": [
        "!pip install torch==1.13.1+cu117 torchvision==0.14.1+cu117 torchaudio==0.13.1 --extra-index-url https://download.pytorch.org/whl/cu117"
      ],
      "metadata": {
        "id": "HNjv-31vDFqh"
      },
      "execution_count": null,
      "outputs": []
    },
    {
      "cell_type": "code",
      "source": [
        "!pip install -U pyopenjtalk --no-build-isolation"
      ],
      "metadata": {
        "id": "rzc5L-AiDb_N"
      },
      "execution_count": null,
      "outputs": []
    },
    {
      "cell_type": "markdown",
      "source": [
        "# **초기 설치**"
      ],
      "metadata": {
        "id": "A5l4FCWtEA3o"
      }
    },
    {
      "cell_type": "code",
      "source": [
        "!git clone https://github.com/ORI-Muchim/PolyLangVITS.git\n",
        "%cd PolyLangVITS\n",
        "!pip install -r requirements.txt"
      ],
      "metadata": {
        "id": "apwXDcXOERH2"
      },
      "execution_count": null,
      "outputs": []
    },
    {
      "cell_type": "code",
      "source": [
        "# 안ㅇㄹㄴ아래ㅑㄷㄹ허댬ㄴ곃ㄴ이라ㅓㅎㅁ노여ㅓㅐ퍄ㅗㄱ/ㅂㅈㅇ다ㅐㅔ랴ㅏㅕㅓ호갃ㅈㄷ히배호러ㅣㄳㅈ답;ㅈㅀ고루ㅑㅗㅓㅗㄱ삳ㅈ;ㅎ소ㅓㅜㄳㄱㄷㅎㅅ;제ㅐ혀ㅏㅗㅓㅣ.ㄱ숃ㅈ;5\n",
        "\n",
        "!pip install faster_whisper unidecode==1.1.1 jamo==0.4.1\n",
        "!pip install langdetect ko_pron g2pk2 pypinyin\n",
        "!pip install cn2an eng_to_ipa monotonic_align"
      ],
      "metadata": {
        "id": "cdFQOOdncMhT"
      },
      "execution_count": null,
      "outputs": []
    },
    {
      "cell_type": "markdown",
      "source": [
        "\n",
        "# 드라이브에서 데이터셋 가져오기\n",
        "압 축 파 일 구 조\n",
        "```\n",
        "datasets\n",
        "├───speaker0[KO]\n",
        "│   ├────1.mp3\n",
        "│   └────1.wav\n",
        "└───speaker1[JA]\n",
        "│    ├───1.mp3\n",
        "│    └───1.wav\n",
        "├───speaker2[EN]\n",
        "│   ├────1.mp3\n",
        "│   └────1.wav\n",
        "├───speaker3[ZH]\n",
        "│   ├────1.mp3\n",
        "│   └────1.wav\n",
        "└─────────\n",
        "\n",
        "```\n",
        "\n"
      ],
      "metadata": {
        "id": "fmdK5OgvHudL"
      }
    },
    {
      "cell_type": "code",
      "source": [
        "#@markdown 구글드라이브 경로\n",
        "zip_path = \"/content/drive/MyDrive/dataset/maksavits.zip\"  #@param {type:\"string\"}\n",
        "#@markdown 압축풀 경로\n",
        "speaker_name = \"./datasets/maksa[KO]\" #@param {type:\"string\"}\n",
        "!unzip {zip_path} -d {speaker_name}\n",
        "\n"
      ],
      "metadata": {
        "id": "mj7i6T6vJO65"
      },
      "execution_count": null,
      "outputs": []
    },
    {
      "cell_type": "code",
      "source": [
        "%rm -r /content/PolyLangVITS/datasets/maksa[KO]"
      ],
      "metadata": {
        "id": "roO5RXTQbep0"
      },
      "execution_count": null,
      "outputs": []
    },
    {
      "cell_type": "markdown",
      "source": [
        "# 학습"
      ],
      "metadata": {
        "id": "v16D0wx4UNgM"
      }
    },
    {
      "cell_type": "code",
      "source": [
        "#@markdown 언어\n",
        "language = \"ko\" # @param [\"ko\", \"en\", \"jp\", \"zh\"]\n",
        "#@markdown 모델 이름\n",
        "model_name = \"maksavits\" #@param {type:\"string\"}\n",
        "#@markdown sample rate\n",
        "samplerate = \"44100\" #@param {type:\"string\"}\n",
        "!python main.py {language} {model_name} {samplerate}"
      ],
      "metadata": {
        "id": "Yk4czTB9UqZ8"
      },
      "execution_count": null,
      "outputs": []
    },
    {
      "cell_type": "markdown",
      "source": [
        "# 문제 해결"
      ],
      "metadata": {
        "id": "Gpbl4rxLeBB4"
      }
    },
    {
      "cell_type": "code",
      "source": [
        "#@markdown **학습 할때 이상한 덮어쓰기 허용 뭐시기 해결**\n",
        "\n",
        "# @markdown 삭제할 경로 (실수로 압축푼거 전체 날리지 않도록 조심)\n",
        "remove_path = \"/content/PolyLangVITS/datasets/maksa[KO]/wavs\" #@param {type:\"string\"}\n",
        "%rm -r /content/PolyLangVITS/datasets/kss[KO]/wavs\n",
        "%rm -r /content/PolyLangVITS/datasets/kss2[KO]/wavs\n",
        "%rm -r {remove_path}"
      ],
      "metadata": {
        "id": "hX7wnfR2eCAA"
      },
      "execution_count": 43,
      "outputs": []
    },
    {
      "cell_type": "markdown",
      "source": [],
      "metadata": {
        "id": "VVYo7Rn8E2_F"
      }
    }
  ]
}